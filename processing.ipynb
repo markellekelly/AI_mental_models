{
 "cells": [
  {
   "cell_type": "code",
   "execution_count": 1,
   "id": "53c1ff20-c453-49be-93ee-8100d772ece9",
   "metadata": {},
   "outputs": [],
   "source": [
    "import pandas as pd\n",
    "import numpy as np"
   ]
  },
  {
   "cell_type": "markdown",
   "id": "59c4b9d7-d867-45c6-ad18-1201f7f6b9d2",
   "metadata": {},
   "source": [
    "### AMT output -> stan input"
   ]
  },
  {
   "cell_type": "code",
   "execution_count": 26,
   "id": "d698124c-6fa2-4e68-be32-52313f089f56",
   "metadata": {},
   "outputs": [],
   "source": [
    "df1 = pd.read_csv('data/pilot2_1.csv')\n",
    "df2 = pd.read_csv('data/pilot2_2.csv')\n",
    "df3 = pd.read_csv('data/pilot2_3.csv')\n",
    "df = pd.concat([df1, df2, df3])"
   ]
  },
  {
   "cell_type": "code",
   "execution_count": 27,
   "id": "9c9ed462-8227-435e-bd19-f0d9dbc0f02b",
   "metadata": {},
   "outputs": [],
   "source": [
    "questions = pd.read_csv('data/questions_update.csv', index_col=0)"
   ]
  },
  {
   "cell_type": "code",
   "execution_count": 28,
   "id": "fd03a7f7-29cc-4f1e-90e5-bdd5e24d9eab",
   "metadata": {},
   "outputs": [],
   "source": [
    "df = pd.concat([df1, df2, df3])"
   ]
  },
  {
   "cell_type": "code",
   "execution_count": 29,
   "id": "8c058a5d-bea1-4efe-af3a-40edfaad144e",
   "metadata": {},
   "outputs": [],
   "source": [
    "cols = []\n",
    "for i in range(16):\n",
    "    cols.extend(['Answer.'+str(i+1)+\"-\" + str(j+1)+\"-Q\" for j in range(12)])\n",
    "    cols.extend(['Answer.'+str(i+1)+'-SID'])"
   ]
  },
  {
   "cell_type": "code",
   "execution_count": 30,
   "id": "5043b895-40b7-4206-a9e6-83b67c9ae6d6",
   "metadata": {},
   "outputs": [],
   "source": [
    "tmp = df.iloc[0]\n",
    "sid_to_topic = {\"1\":1, \"8\":2, \"15\":3, \"20\":4}"
   ]
  },
  {
   "cell_type": "code",
   "execution_count": 31,
   "id": "4bbfe3c8-eeb9-46eb-8a73-6cb885534eec",
   "metadata": {},
   "outputs": [],
   "source": [
    "q_ids = [[],[],[],[]]\n",
    "for i in range(16):\n",
    "    question_ids = set(list(tmp[['Answer.'+str(i+1)+\"-\" + str(j+1)+\"-Q\" for j in range(12)]]))\n",
    "    topic = sid_to_topic[str(tmp['Answer.'+str(i+1)+'-SID'])]\n",
    "    q_ids[topic-1].append(question_ids)"
   ]
  },
  {
   "cell_type": "code",
   "execution_count": 32,
   "id": "a38d8cf0-ecdd-49f9-92f8-f8683a64ae88",
   "metadata": {},
   "outputs": [],
   "source": [
    "def assign_group_id(row, ps):\n",
    "    id_ = 1\n",
    "    for i in range(4):\n",
    "        for j in range(4):\n",
    "            if row['Answer.'+str(ps+1)+'-'+str(i+1)+'-Q'] in q_ids[i][j]:\n",
    "                return id_\n",
    "            id_ +=1\n",
    "    assert False"
   ]
  },
  {
   "cell_type": "code",
   "execution_count": 33,
   "id": "dbb40c63-5621-489d-a9cd-0a091ecb8a6d",
   "metadata": {},
   "outputs": [],
   "source": [
    "problems = pd.DataFrame()\n",
    "for i in range(16):\n",
    "    problems['PID_'+str(i+1)] = df.apply(assign_group_id, args=(i, ), axis=1)"
   ]
  },
  {
   "cell_type": "code",
   "execution_count": 34,
   "id": "d9617591-4dcc-45f4-896d-55adf0606945",
   "metadata": {},
   "outputs": [],
   "source": [
    "def compute_scores(row, ps):\n",
    "    num_correct = 1 # start at 1 since you can't have a score of 0\n",
    "    for i in range(12):\n",
    "        ans = row['Answer.'+str(ps+1)+'-'+str(i+1)+'-A']\n",
    "        correct_ans = questions[questions['QID']==row['Answer.'+str(ps+1)+'-'+str(i+1)+'-Q']]['CORRECT'].iloc[0]\n",
    "        if ans==correct_ans:\n",
    "            num_correct+=1\n",
    "    return num_correct"
   ]
  },
  {
   "cell_type": "code",
   "execution_count": 35,
   "id": "bad549e3-eb1a-440c-84af-78f25ccb59c9",
   "metadata": {},
   "outputs": [],
   "source": [
    "for i in range(16):\n",
    "    df['Y_'+str(i+1)] = df.apply(compute_scores, args=(i, ), axis=1)"
   ]
  },
  {
   "cell_type": "code",
   "execution_count": 36,
   "id": "93ff3e7b-10c7-4464-82df-396d2aaf18eb",
   "metadata": {},
   "outputs": [],
   "source": [
    "def get_topic(row, ps_ind):\n",
    "    SID = row['Answer.'+str(ps_ind+1)+'-SID']\n",
    "    return sid_to_topic[str(SID)]"
   ]
  },
  {
   "cell_type": "code",
   "execution_count": 37,
   "id": "860a90d9-31f4-4420-a43e-f3dc3c2d19f7",
   "metadata": {},
   "outputs": [],
   "source": [
    "topics = pd.DataFrame()\n",
    "for i in range(16):\n",
    "    topics['T_'+str(i+1)] = df.apply(get_topic, args=(i, ), axis=1)"
   ]
  },
  {
   "cell_type": "code",
   "execution_count": 38,
   "id": "12d81b89-b33e-4bbe-b248-25e91796a8cb",
   "metadata": {},
   "outputs": [],
   "source": [
    "p_order = []\n",
    "for row in problems.iterrows():\n",
    "    order = {}\n",
    "    counter = 0\n",
    "    for val in row[1]:\n",
    "        order[counter] = val\n",
    "        counter += 1\n",
    "    p_order.append(order)"
   ]
  },
  {
   "cell_type": "code",
   "execution_count": 19,
   "id": "ffefa559-a86a-463b-8fd0-a922f8ac9b47",
   "metadata": {
    "tags": []
   },
   "outputs": [],
   "source": [
    "new_rows = []\n",
    "cols = range(16)\n",
    "for row, ind in zip(df.iterrows(), range(len(df))):\n",
    "    sorted_inds = sorted(cols, key=lambda x:p_order[ind][x])\n",
    "    sorted_cols = [\"Y_\"+str(i+1) for i in sorted_inds]\n",
    "    new_row = list(row[1][sorted_cols])\n",
    "    new_rows.append(new_row)"
   ]
  },
  {
   "cell_type": "code",
   "execution_count": 40,
   "id": "b879e844-e822-4a26-b886-e98e7865a715",
   "metadata": {
    "tags": []
   },
   "outputs": [],
   "source": [
    "self_assessed_scores = []\n",
    "cols = range(16)\n",
    "for row, ind in zip(df.iterrows(), range(len(df))):\n",
    "    sorted_inds = sorted(cols, key=lambda x:p_order[ind][x])\n",
    "    sorted_cols = [\"Answer.\"+ str(i+1)+\"-Conf\" for i in sorted_inds]\n",
    "    new_row = list(row[1][sorted_cols])\n",
    "    self_assessed_scores.append(new_row)"
   ]
  },
  {
   "cell_type": "code",
   "execution_count": 18,
   "id": "ac2a7c37-2abb-4149-a71a-0e8e9915f5a4",
   "metadata": {},
   "outputs": [],
   "source": [
    "scores_sorted = pd.DataFrame(new_rows)\n",
    "scores_sorted.to_csv('data_pilot.csv')"
   ]
  },
  {
   "cell_type": "code",
   "execution_count": 41,
   "id": "6c02c5da-d701-487b-a942-8920a601245c",
   "metadata": {},
   "outputs": [],
   "source": [
    "self_scores_sorted = pd.DataFrame(self_assessed_scores)\n",
    "self_scores_sorted.to_csv('self_data_pilot.csv')"
   ]
  },
  {
   "cell_type": "markdown",
   "id": "8909451a-98bb-4377-966d-52c47bf4c0ee",
   "metadata": {},
   "source": [
    "### parameter recovery"
   ]
  },
  {
   "cell_type": "code",
   "execution_count": 3,
   "id": "99d2e07a-cd3e-4237-8c47-cfe1b401713e",
   "metadata": {},
   "outputs": [],
   "source": [
    "df = pd.read_csv('md_fit.csv', index_col=0)"
   ]
  },
  {
   "cell_type": "code",
   "execution_count": 5,
   "id": "ef7dbb89-7fdb-40e1-a415-d1a7ae95115f",
   "metadata": {},
   "outputs": [
    {
     "name": "stdout",
     "output_type": "stream",
     "text": [
      "-0.09145312594977544\n",
      "-0.06853047724614605\n",
      "0.23551084045521747\n",
      "0.32566389956430486\n",
      "0.560680115279519\n",
      "0.5921257223956156\n",
      "-0.04467423506303305\n",
      "-0.005118155139547955\n",
      "0.032135178482212826\n",
      "0.05585907458247923\n",
      "-0.185915424322534\n",
      "-0.11790841679708189\n",
      "-0.3049070750069066\n",
      "-0.25198296683817967\n",
      "0.7934996937281399\n",
      "0.8348951594873382\n",
      "0.06811869057282839\n",
      "0.04740094374815765\n",
      "0.21654675864858614\n",
      "0.2637502508124316\n",
      "0.5569567098988357\n",
      "0.6051595504298188\n",
      "-0.04471868925608077\n",
      "-0.009908603432932485\n",
      "-0.029172309389915545\n",
      "-0.04136120417333493\n",
      "0.6797126755719034\n",
      "0.717379283473489\n",
      "0.09458477501566584\n",
      "0.12895576578913898\n",
      "-0.03487840810557874\n",
      "0.004120732424792817\n"
     ]
    }
   ],
   "source": [
    "ds = [ 'd_true1',\n",
    " 'd_true2',\n",
    " 'd_true3',\n",
    " 'd_true4',\n",
    " 'd_true5',\n",
    " 'd_true6',\n",
    " 'd_true7',\n",
    " 'd_true8',\n",
    " 'd_true9',\n",
    " 'd_true10',\n",
    " 'd_true11',\n",
    " 'd_true12',\n",
    " 'd_true13',\n",
    " 'd_true14',\n",
    " 'd_true15',\n",
    " 'd_true16']\n",
    "for d in ds:\n",
    "    print(np.mean(df[d]))\n",
    "    print(np.median(df[d]))"
   ]
  },
  {
   "cell_type": "code",
   "execution_count": 43,
   "id": "14b0a60c-2e8c-4946-984f-c9e846c9bca4",
   "metadata": {},
   "outputs": [],
   "source": [
    "df = pd.read_csv('md_fit.csv', index_col=0)"
   ]
  },
  {
   "cell_type": "code",
   "execution_count": 44,
   "id": "52673ecc-3a32-4fa6-835b-6baa9b545088",
   "metadata": {},
   "outputs": [
    {
     "name": "stdout",
     "output_type": "stream",
     "text": [
      "0.49008939947917407\n",
      "0.4965682920056226\n",
      "0.5402075328537843\n",
      "0.5470465202708841\n",
      "3.8339017822951136\n",
      "3.795567735330243\n",
      "0.48822353657497886\n",
      "0.4918912830681839\n",
      "0.5011193340357141\n",
      "0.5021481298660737\n",
      "0.5643761904524086\n",
      "0.570662381018211\n",
      "0.07290264019698316\n",
      "0.06620382357573565\n",
      "0.3414313226604554\n",
      "0.3463829482905143\n",
      "0.4916118886498146\n",
      "0.49820770864122205\n",
      "0.4506913891387717\n",
      "0.4553499864442116\n",
      "0.2746954364146104\n",
      "0.26756222747108666\n",
      "0.47832273953971427\n",
      "0.475541419360319\n",
      "0.5035555397587462\n",
      "0.5156419963058172\n",
      "0.5660928831683103\n",
      "0.5755397843405587\n",
      "0.08851879802324797\n",
      "0.08659154383183584\n",
      "0.4128554958233478\n",
      "0.40465666331939026\n"
     ]
    }
   ],
   "source": [
    "ds = [ 'd_true1',\n",
    " 'd_true2',\n",
    " 'd_true3',\n",
    " 'd_true4',\n",
    " 'd_true5',\n",
    " 'd_true6',\n",
    " 'd_true7',\n",
    " 'd_true8',\n",
    " 'd_true9',\n",
    " 'd_true10',\n",
    " 'd_true11',\n",
    " 'd_true12',\n",
    " 'd_true13',\n",
    " 'd_true14',\n",
    " 'd_true15',\n",
    " 'd_true16']\n",
    "for d in ds:\n",
    "    print(np.mean(df[d]))\n",
    "    print(np.median(df[d]))"
   ]
  },
  {
   "cell_type": "code",
   "execution_count": 26,
   "id": "fad59602-dc05-4b8b-aaa5-409613f71c19",
   "metadata": {},
   "outputs": [
    {
     "data": {
      "text/plain": [
       "0.4955"
      ]
     },
     "execution_count": 26,
     "metadata": {},
     "output_type": "execute_result"
    }
   ],
   "source": [
    "sum(np.logical_and(df['a_true.1']>2, df['a_true.1']<8))/len(df)"
   ]
  },
  {
   "cell_type": "code",
   "execution_count": 59,
   "id": "ca7e8d70-cbd3-43d5-883d-2b40c122ff70",
   "metadata": {},
   "outputs": [],
   "source": [
    "df = pd.read_csv('md_fit.csv', index_col=0)"
   ]
  },
  {
   "cell_type": "code",
   "execution_count": 60,
   "id": "c2822a67-fb1a-4a7d-8c37-e2679f768f21",
   "metadata": {},
   "outputs": [
    {
     "name": "stdout",
     "output_type": "stream",
     "text": [
      "0.5880791740853022\n",
      "0.5913722655438982\n",
      "0.28700376746143025\n",
      "0.2854561739756598\n",
      "4.096031838732399\n",
      "4.060993805879523\n",
      "0.5007941166669299\n",
      "0.5034133540238999\n",
      "0.7427857453451029\n",
      "0.7439765139730866\n",
      "0.2949955737244212\n",
      "0.29449492737456573\n",
      "0.4882102475194281\n",
      "0.48970532315379955\n",
      "0.4241542515726411\n",
      "0.42498808655027853\n",
      "0.6163992448461229\n",
      "0.6199263344840207\n",
      "0.2506475960659711\n",
      "0.2505093378619734\n",
      "0.39764663362047664\n",
      "0.39879495510106033\n",
      "0.40059055927412784\n",
      "0.40173673842033414\n",
      "0.6105981817170815\n",
      "0.6116501386732537\n",
      "0.22954501167635508\n",
      "0.22967381083052468\n",
      "0.44210243166023144\n",
      "0.44166082821337466\n",
      "0.4508980849234469\n",
      "0.44963178426525663\n"
     ]
    }
   ],
   "source": [
    "for d in ds:\n",
    "    print(np.mean(df[d]))\n",
    "    print(np.median(df[d]))"
   ]
  },
  {
   "cell_type": "markdown",
   "id": "ccb4cde7-9619-4e20-8b8a-a46d398fc037",
   "metadata": {},
   "source": [
    "### results: pilot study"
   ]
  },
  {
   "cell_type": "code",
   "execution_count": 43,
   "id": "b2806363-65d8-4456-8fc6-08b155f8ce58",
   "metadata": {},
   "outputs": [],
   "source": [
    "df = pd.read_csv('md_fit_pilot.csv', index_col=0)"
   ]
  },
  {
   "cell_type": "code",
   "execution_count": 41,
   "id": "50b70214-9f18-4f9e-bbdd-98a9492868c3",
   "metadata": {},
   "outputs": [],
   "source": [
    "omegas = [['Omega.'+str(i)+\".\"+str(j) for j in range(1,5)] for i in range(1, 5)]"
   ]
  },
  {
   "cell_type": "code",
   "execution_count": 43,
   "id": "9cc67010-b18b-4310-b53c-8cf6f0d89ce9",
   "metadata": {},
   "outputs": [],
   "source": [
    "corr = []\n",
    "for row in omegas:\n",
    "    corr_row = []\n",
    "    for col in row:\n",
    "        corr_row.append(np.mean(df[col]))\n",
    "    corr.append(corr_row)"
   ]
  },
  {
   "cell_type": "code",
   "execution_count": 44,
   "id": "9f9e5da0-f2d6-46c2-8c30-cdabbd2e624c",
   "metadata": {},
   "outputs": [
    {
     "data": {
      "text/plain": [
       "[[1.0, 0.055773325331551986, 0.7812348126269762, 0.5587560136656861],\n",
       " [0.055773325331551986, 1.0, 0.09555336311921674, 0.13876450435515975],\n",
       " [0.7812348126269762, 0.09555336311921674, 1.0, 0.7012791228586784],\n",
       " [0.5587560136656861, 0.13876450435515975, 0.7012791228586784, 1.0]]"
      ]
     },
     "execution_count": 44,
     "metadata": {},
     "output_type": "execute_result"
    }
   ],
   "source": [
    "corr"
   ]
  },
  {
   "cell_type": "code",
   "execution_count": 32,
   "id": "50977186-19d0-4985-a551-41f36ef90aaa",
   "metadata": {},
   "outputs": [],
   "source": [
    "art_abs_cols = ['a_true.'+str(i)+'.1' for i in range(1,28)]\n",
    "games_abs_cols = ['a_true.'+str(i)+'.2' for i in range(1,28)]\n",
    "cities_abs_cols = ['a_true.'+str(i)+'.3' for i in range(1,28)]\n",
    "math_abs_cols = ['a_true.'+str(i)+'.4' for i in range(1,28)]"
   ]
  },
  {
   "cell_type": "code",
   "execution_count": 33,
   "id": "3426ed64-d585-4891-97e6-0b745b23712c",
   "metadata": {},
   "outputs": [],
   "source": [
    "cols = [art_abs_cols, games_abs_cols, cities_abs_cols, math_abs_cols]"
   ]
  },
  {
   "cell_type": "code",
   "execution_count": 36,
   "id": "235f6593-6008-49b8-9fb1-1834f5bcb97b",
   "metadata": {},
   "outputs": [
    {
     "name": "stdout",
     "output_type": "stream",
     "text": [
      "art\n",
      "mean= 0.028549339498902974\n",
      "low= -0.9941690279135446\n",
      "high= 1.3838971420140913\n",
      "video games\n",
      "mean= -0.0030438278870406825\n",
      "low= -0.5574109930758592\n",
      "high= 0.5607637418206266\n",
      "cities\n",
      "mean= 0.03429237155855274\n",
      "low= -0.7371051950407974\n",
      "high= 0.8996115160258065\n",
      "math\n",
      "mean= 0.15134594527895048\n",
      "low= -2.1688432945327487\n",
      "high= 1.8612142148317126\n"
     ]
    }
   ],
   "source": [
    "for (col, name) in zip(cols, ['art', 'video games', 'cities', 'math']):\n",
    "    print(name)\n",
    "    ab = [np.mean(df[c]) for c in col]\n",
    "    print('mean=', np.mean(ab))\n",
    "    print('low=', min(ab))\n",
    "    print('high=', max(ab))"
   ]
  },
  {
   "cell_type": "code",
   "execution_count": 47,
   "id": "9cef8a54-929c-4ef4-a4ae-bdb59bb4c1ea",
   "metadata": {},
   "outputs": [
    {
     "data": {
      "text/plain": [
       "[-0.04652123191129955,\n",
       " 0.2515353677806564,\n",
       " 0.8998060647716445,\n",
       " 0.41414817029793954,\n",
       " 0.18868837362107427,\n",
       " 0.7310632564304174,\n",
       " -0.015700731476609678,\n",
       " -0.3051729911921427,\n",
       " -0.14263747259660883,\n",
       " -0.07531496580748799,\n",
       " 0.7261458439212499,\n",
       " 0.6515728418332006,\n",
       " -0.6608798938758984,\n",
       " -2.4601896612679703,\n",
       " -1.1822759319915577,\n",
       " -1.3995727983309483]"
      ]
     },
     "execution_count": 47,
     "metadata": {},
     "output_type": "execute_result"
    }
   ],
   "source": [
    "[np.mean(df['d_true' + str(i)]) for i in range(1,17)]"
   ]
  },
  {
   "cell_type": "markdown",
   "id": "961a00cc-8495-4c32-9ad6-2841ef917939",
   "metadata": {},
   "source": [
    "### self-assessment"
   ]
  },
  {
   "cell_type": "code",
   "execution_count": 78,
   "id": "4ceff880-1d84-45a9-8043-17474810e681",
   "metadata": {},
   "outputs": [],
   "source": [
    "df = pd.read_csv('md_fit_self_pilot.csv', index_col=0)"
   ]
  },
  {
   "cell_type": "code",
   "execution_count": 79,
   "id": "c8e05b23-2eae-433e-a083-3b6e5c5dffd9",
   "metadata": {},
   "outputs": [
    {
     "data": {
      "text/plain": [
       "[-0.538906852805852,\n",
       " -0.07622014778066125,\n",
       " 0.18770836840678262,\n",
       " 0.37554504682032175]"
      ]
     },
     "execution_count": 79,
     "metadata": {},
     "output_type": "execute_result"
    }
   ],
   "source": [
    "noise_a_cols = ['noise_a1',\n",
    " 'noise_a2',\n",
    " 'noise_a3',\n",
    " 'noise_a4']\n",
    "[np.mean(df[n]) for n in noise_a_cols]"
   ]
  },
  {
   "cell_type": "code",
   "execution_count": 80,
   "id": "df836369-b8e7-4157-85a8-584a8e8adcb8",
   "metadata": {},
   "outputs": [],
   "source": [
    "params_df = pd.read_csv('md_fit_pilot.csv', index_col=0)"
   ]
  },
  {
   "cell_type": "code",
   "execution_count": 84,
   "id": "09cb3406-c9ae-4020-9d17-ea7058a236a3",
   "metadata": {},
   "outputs": [
    {
     "data": {
      "text/plain": [
       "[1.2246561243128968,\n",
       " -0.12450997659027578,\n",
       " 0.7296030797146398,\n",
       " 1.1747181451515734]"
      ]
     },
     "execution_count": 84,
     "metadata": {},
     "output_type": "execute_result"
    }
   ],
   "source": [
    "[np.mean(params_df['a_true.'+str(10+1)+'.'+str(j)]) for j in range(1,5)]"
   ]
  },
  {
   "cell_type": "code",
   "execution_count": 82,
   "id": "c62b5044-5cf6-4396-9cd8-287de83469e4",
   "metadata": {},
   "outputs": [
    {
     "name": "stdout",
     "output_type": "stream",
     "text": [
      "0.39456382029804654\n",
      "0.3711494777915038\n",
      "0.38542289135256685\n",
      "0.21078218749757138\n"
     ]
    }
   ],
   "source": [
    "perceived_d = [np.mean(df[\"d.\"+str(i)]) for i in range(1, 17)]\n",
    "for ind in [0,4,8,12]:\n",
    "    print(np.mean(perceived_d[ind:ind+4]))"
   ]
  },
  {
   "cell_type": "code",
   "execution_count": 83,
   "id": "23bba8cc-205c-4f9c-baab-296760ba4d82",
   "metadata": {},
   "outputs": [
    {
     "name": "stdout",
     "output_type": "stream",
     "text": [
      "0.3797420927347352\n",
      "0.14971947684568482\n",
      "0.28994156183758846\n",
      "-1.4257295713665936\n"
     ]
    }
   ],
   "source": [
    "true_d = [np.mean(params_df['d_true' + str(i)]) for i in range(1,17)]\n",
    "for ind in [0,4,8,12]:\n",
    "    print(np.mean(true_d[ind:ind+4]))"
   ]
  },
  {
   "cell_type": "code",
   "execution_count": null,
   "id": "24470449-b5c2-4712-b0d0-cf2331270e88",
   "metadata": {},
   "outputs": [],
   "source": []
  }
 ],
 "metadata": {
  "kernelspec": {
   "display_name": "Python [conda env:ml] *",
   "language": "python",
   "name": "conda-env-ml-py"
  },
  "language_info": {
   "codemirror_mode": {
    "name": "ipython",
    "version": 3
   },
   "file_extension": ".py",
   "mimetype": "text/x-python",
   "name": "python",
   "nbconvert_exporter": "python",
   "pygments_lexer": "ipython3",
   "version": "3.8.13"
  }
 },
 "nbformat": 4,
 "nbformat_minor": 5
}
