{
 "cells": [
  {
   "cell_type": "code",
   "execution_count": 1,
   "id": "56734701-6549-42dc-817e-217af98a7cb7",
   "metadata": {},
   "outputs": [],
   "source": [
    "import pandas as pd\n",
    "import numpy as np\n",
    "import matplotlib.pyplot as plt\n",
    "import seaborn as sn"
   ]
  },
  {
   "cell_type": "markdown",
   "id": "ec42e8b2-0380-47da-a5b8-bb3f72e2cb84",
   "metadata": {},
   "source": [
    "# One-dimensional vs. Multidimensional"
   ]
  },
  {
   "cell_type": "markdown",
   "id": "cedb2b79-a440-405f-a84d-ab853705b1b8",
   "metadata": {},
   "source": [
    "## Held-out log-likelihoods"
   ]
  },
  {
   "cell_type": "code",
   "execution_count": 19,
   "id": "0977fee1-3015-418f-950f-4d5a18542a28",
   "metadata": {},
   "outputs": [],
   "source": [
    "def cross_val_log_lik(fname):\n",
    "    df = pd.read_csv(fname, index_col=0)\n",
    "    return np.mean(np.array(df),axis=(0, 1))"
   ]
  },
  {
   "cell_type": "code",
   "execution_count": 196,
   "id": "532dc816-3a1a-440d-8897-112b70edaa3c",
   "metadata": {},
   "outputs": [],
   "source": [
    "for i in ['1d','md']:\n",
    "    for j in ['a', 'h']:\n",
    "        print(i, j)\n",
    "        fname = \"modeling_results/{}_other_{}_fb_CV.csv\".format(i,j)\n",
    "        print(cross_val_log_lik(fname))"
   ]
  },
  {
   "cell_type": "markdown",
   "id": "6a2be9f7-4250-423b-a661-afb14a6220c5",
   "metadata": {},
   "source": [
    "## WAIC and LOO scores"
   ]
  },
  {
   "cell_type": "code",
   "execution_count": 14,
   "id": "85e5e0cd-55db-4373-b8b0-1ebc30960dd4",
   "metadata": {},
   "outputs": [],
   "source": [
    "def compute_avg_score(fname):\n",
    "    with open(fname, \"r\") as f:\n",
    "        waic, loo = f.readlines()\n",
    "    waics = [float(i) for i in waic.strip()[1:-1].split(\",\")]\n",
    "    loos = [float(i) for i in loo.strip()[1:-1].split(\",\")]\n",
    "    return np.mean(waics), np.mean(loos)"
   ]
  },
  {
   "cell_type": "code",
   "execution_count": 196,
   "id": "f52b7c40-ec44-4b23-9589-807fff27722a",
   "metadata": {},
   "outputs": [],
   "source": [
    "for i in ['1d','md']:\n",
    "    for j in ['a', 'h']:\n",
    "        print(i, j)\n",
    "        fname = \"modeling_results/{}_other_{}_fb_CV_metrics.csv\".format(i,j)\n",
    "        print(compute_avg_score(fname))"
   ]
  },
  {
   "cell_type": "markdown",
   "id": "cefa04f3-eea7-438c-b913-a24d64025e67",
   "metadata": {},
   "source": [
    "## Latent correlations"
   ]
  },
  {
   "cell_type": "code",
   "execution_count": 25,
   "id": "39a714de-f641-4624-b588-f2a716a034ae",
   "metadata": {},
   "outputs": [],
   "source": [
    "def get_corrs(df_corr):\n",
    "    omegas = [['Omega.'+str(i)+\".\"+str(j) for j in range(1,5)] for i in range(1, 5)]\n",
    "    corr = []\n",
    "    for row in omegas:\n",
    "        corr_row = []\n",
    "        for col in row:\n",
    "            corr_row.append(np.mean(df_corr[col]))\n",
    "        corr.append(corr_row)\n",
    "    return corr"
   ]
  },
  {
   "cell_type": "code",
   "execution_count": 26,
   "id": "ecbbbf81-a18f-4925-91a4-38db19bd50e1",
   "metadata": {},
   "outputs": [],
   "source": [
    "def plot_corrs(corrs, labsx, labsy):\n",
    "    _min = 1\n",
    "    _max = 0\n",
    "    for corr in corrs:\n",
    "        if np.min(corr) < _min:\n",
    "            _min = np.min(corr)\n",
    "        if np.max(corr) >_max:\n",
    "            _max = np.max(corr)\n",
    "    for corr in corrs:\n",
    "        fig, ax = plt.subplots(figsize=(7,7))\n",
    "        sn.heatmap(corr, annot=True,xticklabels=labsx, yticklabels=labsy,\n",
    "                   cmap='crest', cbar=False, vmin=_min, vmax=_max, ax=ax)\n",
    "        plt.show()"
   ]
  },
  {
   "cell_type": "code",
   "execution_count": 28,
   "id": "dd23d1db-ec22-400c-a9cc-4ccf0d41d7ec",
   "metadata": {},
   "outputs": [],
   "source": [
    "labsy = ['History of Art','Video Games','Cities','Math']\n",
    "labsx = ['HA', 'VG', 'C', 'M']"
   ]
  },
  {
   "cell_type": "code",
   "execution_count": 34,
   "id": "dcf2d0ed-2791-4fa2-99e1-3fe5b65a9bba",
   "metadata": {},
   "outputs": [],
   "source": [
    "sn.set(font_scale=1.9)"
   ]
  },
  {
   "cell_type": "code",
   "execution_count": 27,
   "id": "928316f9-0eef-4f58-a9a3-94b832490312",
   "metadata": {},
   "outputs": [],
   "source": [
    "human_md = pd.read_csv('modeling_results/md_other_h.csv', index_col=0)\n",
    "human_corrs = get_corrs(human_md)"
   ]
  },
  {
   "cell_type": "code",
   "execution_count": 32,
   "id": "e422358d-3716-424d-9f7c-930f1b885362",
   "metadata": {},
   "outputs": [],
   "source": [
    "ai_md = pd.read_csv('modeling_results/md_other_a.csv', index_col=0)\n",
    "ai_corrs = get_corrs(ai_md)"
   ]
  },
  {
   "cell_type": "code",
   "execution_count": null,
   "id": "8695bdf5-2533-4d9a-b769-3d0da80b058d",
   "metadata": {},
   "outputs": [],
   "source": [
    "plot_corrs([ai_corrs,human_corrs], labsx, labsy)"
   ]
  },
  {
   "cell_type": "code",
   "execution_count": null,
   "id": "c3994f39-daf1-4fa3-a85d-b95cc54c60f1",
   "metadata": {},
   "outputs": [],
   "source": []
  }
 ],
 "metadata": {
  "kernelspec": {
   "display_name": "Python [conda env:ml] *",
   "language": "python",
   "name": "conda-env-ml-py"
  },
  "language_info": {
   "codemirror_mode": {
    "name": "ipython",
    "version": 3
   },
   "file_extension": ".py",
   "mimetype": "text/x-python",
   "name": "python",
   "nbconvert_exporter": "python",
   "pygments_lexer": "ipython3",
   "version": "3.8.15"
  }
 },
 "nbformat": 4,
 "nbformat_minor": 5
}
